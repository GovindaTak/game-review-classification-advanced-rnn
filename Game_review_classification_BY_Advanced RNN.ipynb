{
 "cells": [
  {
   "cell_type": "markdown",
   "id": "e6ba815f-20ac-4964-9f26-79da7d861464",
   "metadata": {},
   "source": [
    "# Project :- Creating a Review Classification Model for Gaming Company "
   ]
  },
  {
   "cell_type": "markdown",
   "id": "6d7274a1-246f-41a1-814d-c2b2bc3965e9",
   "metadata": {},
   "source": [
    "__We need to predict the customer sentiment for regarding , they will recommend the game to thier firends or not . we will analysis the customer feedback and predict user_suggestions.__"
   ]
  },
  {
   "cell_type": "code",
   "execution_count": 8,
   "id": "5436e9f6-ba7b-4d52-980c-143748df67be",
   "metadata": {},
   "outputs": [],
   "source": [
    "import nltk\n",
    "import pandas as pd\n",
    "import matplotlib.pyplot as plt\n",
    "import seaborn as sns\n",
    "import spacy\n",
    "import numpy as np\n",
    "from nltk.corpus import stopwords\n",
    "from nltk.stem import WordNetLemmatizer\n",
    "from spacy import displacy\n",
    "from sklearn.pipeline import Pipeline\n",
    "from sklearn.feature_extraction.text import TfidfVectorizer\n",
    "from sklearn.naive_bayes import MultinomialNB\n",
    "from sklearn.metrics import accuracy_score,classification_report"
   ]
  },
  {
   "cell_type": "code",
   "execution_count": 9,
   "id": "19fabfdb-85f4-49ce-9783-624e88711520",
   "metadata": {},
   "outputs": [
    {
     "name": "stderr",
     "output_type": "stream",
     "text": [
      "[nltk_data] Downloading package punkt to\n",
      "[nltk_data]     C:\\Users\\govinda.tak\\AppData\\Roaming\\nltk_data...\n",
      "[nltk_data]   Package punkt is already up-to-date!\n",
      "[nltk_data] Downloading package stopwords to\n",
      "[nltk_data]     C:\\Users\\govinda.tak\\AppData\\Roaming\\nltk_data...\n",
      "[nltk_data]   Package stopwords is already up-to-date!\n"
     ]
    },
    {
     "data": {
      "text/plain": [
       "True"
      ]
     },
     "execution_count": 9,
     "metadata": {},
     "output_type": "execute_result"
    }
   ],
   "source": [
    "# Download nltk resources \n",
    "nltk.download('punkt')\n",
    "nltk.download('stopwords')"
   ]
  },
  {
   "cell_type": "markdown",
   "id": "38c39951-7a8e-4e76-befd-7bcd87019099",
   "metadata": {},
   "source": [
    "# Step 1 :- import the dataset "
   ]
  },
  {
   "cell_type": "code",
   "execution_count": 11,
   "id": "c8c46ff3-e714-4d94-a863-6fb7b6ded788",
   "metadata": {},
   "outputs": [],
   "source": [
    "train_data=pd.read_csv('train.csv')\n",
    "test_data=pd.read_csv('test.csv')\n",
    "validation_data=pd.read_csv('validation.csv')"
   ]
  },
  {
   "cell_type": "code",
   "execution_count": 12,
   "id": "83bc0320-78ea-491b-8f43-f0b2ebe25218",
   "metadata": {},
   "outputs": [
    {
     "name": "stdout",
     "output_type": "stream",
     "text": [
      "<class 'pandas.core.frame.DataFrame'>\n",
      "RangeIndex: 17877 entries, 0 to 17876\n",
      "Data columns (total 5 columns):\n",
      " #   Column           Non-Null Count  Dtype  \n",
      "---  ------           --------------  -----  \n",
      " 0   review_id        17877 non-null  int64  \n",
      " 1   title            17877 non-null  object \n",
      " 2   year             17698 non-null  float64\n",
      " 3   user_review      17877 non-null  object \n",
      " 4   user_suggestion  17877 non-null  int64  \n",
      "dtypes: float64(1), int64(2), object(2)\n",
      "memory usage: 698.4+ KB\n"
     ]
    }
   ],
   "source": [
    "train_data.info()"
   ]
  },
  {
   "cell_type": "markdown",
   "id": "cf8057b7-71ce-4031-a697-5cf30f03b057",
   "metadata": {},
   "source": [
    "__here user_review is our feature and user_suggestion is our target . so we need to develop a model who can process the feature and predict the user suggestion.__"
   ]
  },
  {
   "cell_type": "code",
   "execution_count": 14,
   "id": "ddc583c4-47b8-410a-a23a-a08935435beb",
   "metadata": {},
   "outputs": [
    {
     "data": {
      "text/html": [
       "<div>\n",
       "<style scoped>\n",
       "    .dataframe tbody tr th:only-of-type {\n",
       "        vertical-align: middle;\n",
       "    }\n",
       "\n",
       "    .dataframe tbody tr th {\n",
       "        vertical-align: top;\n",
       "    }\n",
       "\n",
       "    .dataframe thead th {\n",
       "        text-align: right;\n",
       "    }\n",
       "</style>\n",
       "<table border=\"1\" class=\"dataframe\">\n",
       "  <thead>\n",
       "    <tr style=\"text-align: right;\">\n",
       "      <th></th>\n",
       "      <th>review_id</th>\n",
       "      <th>title</th>\n",
       "      <th>year</th>\n",
       "      <th>user_review</th>\n",
       "      <th>user_suggestion</th>\n",
       "    </tr>\n",
       "  </thead>\n",
       "  <tbody>\n",
       "    <tr>\n",
       "      <th>0</th>\n",
       "      <td>460</td>\n",
       "      <td>Black Squad</td>\n",
       "      <td>2018.0</td>\n",
       "      <td>Early Access ReviewVery great shooter, that ha...</td>\n",
       "      <td>1</td>\n",
       "    </tr>\n",
       "    <tr>\n",
       "      <th>1</th>\n",
       "      <td>2166</td>\n",
       "      <td>Tree of Savior (English Ver.)</td>\n",
       "      <td>2016.0</td>\n",
       "      <td>I love love love playing this game!Super 100%!...</td>\n",
       "      <td>1</td>\n",
       "    </tr>\n",
       "    <tr>\n",
       "      <th>2</th>\n",
       "      <td>17242</td>\n",
       "      <td>Eternal Card Game</td>\n",
       "      <td>2016.0</td>\n",
       "      <td>Early Access ReviewAs a fan of MTG and Hearths...</td>\n",
       "      <td>1</td>\n",
       "    </tr>\n",
       "    <tr>\n",
       "      <th>3</th>\n",
       "      <td>6959</td>\n",
       "      <td>Tactical Monsters Rumble Arena</td>\n",
       "      <td>2018.0</td>\n",
       "      <td>Turn based strategy game similiar to FF Tactic...</td>\n",
       "      <td>1</td>\n",
       "    </tr>\n",
       "    <tr>\n",
       "      <th>4</th>\n",
       "      <td>8807</td>\n",
       "      <td>Yu-Gi-Oh! Duel Links</td>\n",
       "      <td>2017.0</td>\n",
       "      <td>This game has an insanely huge download for be...</td>\n",
       "      <td>0</td>\n",
       "    </tr>\n",
       "  </tbody>\n",
       "</table>\n",
       "</div>"
      ],
      "text/plain": [
       "   review_id                           title    year  \\\n",
       "0        460                     Black Squad  2018.0   \n",
       "1       2166   Tree of Savior (English Ver.)  2016.0   \n",
       "2      17242               Eternal Card Game  2016.0   \n",
       "3       6959  Tactical Monsters Rumble Arena  2018.0   \n",
       "4       8807            Yu-Gi-Oh! Duel Links  2017.0   \n",
       "\n",
       "                                         user_review  user_suggestion  \n",
       "0  Early Access ReviewVery great shooter, that ha...                1  \n",
       "1  I love love love playing this game!Super 100%!...                1  \n",
       "2  Early Access ReviewAs a fan of MTG and Hearths...                1  \n",
       "3  Turn based strategy game similiar to FF Tactic...                1  \n",
       "4  This game has an insanely huge download for be...                0  "
      ]
     },
     "execution_count": 14,
     "metadata": {},
     "output_type": "execute_result"
    }
   ],
   "source": [
    "train_data.head(5)"
   ]
  },
  {
   "cell_type": "markdown",
   "id": "d1677399-5b81-4382-99bd-be02c98746d2",
   "metadata": {},
   "source": [
    "let's see testing data is balanced or not ...."
   ]
  },
  {
   "cell_type": "code",
   "execution_count": 16,
   "id": "b25cbc93-9ea6-4da8-b889-78d83a40212f",
   "metadata": {},
   "outputs": [
    {
     "data": {
      "text/plain": [
       "<Axes: xlabel='user_suggestion', ylabel='Count'>"
      ]
     },
     "execution_count": 16,
     "metadata": {},
     "output_type": "execute_result"
    },
    {
     "data": {
      "image/png": "[encoded data removed]",
      "text/plain": [
       "<Figure size 640x480 with 1 Axes>"
      ]
     },
     "metadata": {},
     "output_type": "display_data"
    }
   ],
   "source": [
    "sns.histplot(data=test_data,x='user_suggestion')"
   ]
  },
  {
   "cell_type": "markdown",
   "id": "60447ebb-3260-4238-a26e-337c00f622fa",
   "metadata": {},
   "source": [
    "so we can see our dataset is balanced ."
   ]
  },
  {
   "cell_type": "markdown",
   "id": "bd1a5b70-f75c-47c5-a507-3f927d556533",
   "metadata": {},
   "source": [
    "# Step 2 :- Text Preprocessing "
   ]
  },
  {
   "cell_type": "code",
   "execution_count": 19,
   "id": "60e63a0d-ab9c-49ab-8214-82838293fcf9",
   "metadata": {},
   "outputs": [],
   "source": [
    "# Load the spacy english model\n",
    "# we are not using NER, we can disable it to speedup\n",
    "nlp= spacy.load(\"en_core_web_sm\")"
   ]
  },
  {
   "cell_type": "markdown",
   "id": "227be65a-956a-474d-8fa4-ea7736025b85",
   "metadata": {},
   "source": [
    "__1) Preprocessing function__\n",
    "lowercasing , stopword removal , punctuation and special char removal , lemmatization"
   ]
  },
  {
   "cell_type": "code",
   "execution_count": 21,
   "id": "3afec841-5218-4146-99c6-c4f16f247ad1",
   "metadata": {},
   "outputs": [],
   "source": [
    "def preprocess_text(texts):\n",
    "    processed_texts=[]\n",
    "    for doc in nlp.pipe(texts,n_process=-1):\n",
    "    \n",
    "        lemmatized_tokens=[token.lemma_.lower() for token in doc if token.is_alpha and token.lemma_ not in nlp.Defaults.stop_words]\n",
    "    \n",
    "        processed_text=\" \".join(lemmatized_tokens)\n",
    "        processed_texts.append(processed_text)\n",
    "     \n",
    "    return processed_texts"
   ]
  },
  {
   "cell_type": "code",
   "execution_count": 22,
   "id": "15bc279f-8102-448c-9653-9e417a10d3de",
   "metadata": {},
   "outputs": [],
   "source": [
    "train_data['user_review']=preprocess_text(train_data['user_review'])\n",
    "test_data['user_review']=preprocess_text(test_data['user_review'])\n",
    "validation_data['user_review']=preprocess_text(validation_data['user_review'])"
   ]
  },
  {
   "cell_type": "markdown",
   "id": "3354aada-dd90-4393-b0b4-686084b7c0c3",
   "metadata": {},
   "source": [
    "__2) Vectorization__"
   ]
  },
  {
   "cell_type": "code",
   "execution_count": 24,
   "id": "80e362c9-7f4a-488b-adef-90058c625566",
   "metadata": {},
   "outputs": [],
   "source": [
    "tfidf_vectorizer=TfidfVectorizer(min_df=0.001,ngram_range=(1,3))"
   ]
  },
  {
   "cell_type": "code",
   "execution_count": 25,
   "id": "a49750ed-9963-4207-9573-ae9bb480e739",
   "metadata": {},
   "outputs": [],
   "source": [
    "train_vector=tfidf_vectorizer.fit_transform(train_data['user_review'])\n",
    "val_vector=tfidf_vectorizer.transform(validation_data['user_review'])\n",
    "test_vector=tfidf_vectorizer.transform(test_data['user_review'])"
   ]
  },
  {
   "cell_type": "code",
   "execution_count": 26,
   "id": "f23e52d2-7e20-4b23-a7e0-60470563f6e3",
   "metadata": {},
   "outputs": [
    {
     "data": {
      "text/plain": [
       "scipy.sparse._csr.csr_matrix"
      ]
     },
     "execution_count": 26,
     "metadata": {},
     "output_type": "execute_result"
    }
   ],
   "source": [
    "type(train_vector)"
   ]
  },
  {
   "cell_type": "code",
   "execution_count": 27,
   "id": "4ca7d204-708e-496e-b05f-38f355768496",
   "metadata": {},
   "outputs": [
    {
     "name": "stdout",
     "output_type": "stream",
     "text": [
      "  (0, 1818)\t0.10058359536531872\n",
      "  (0, 36)\t0.09935397540896894\n",
      "  (0, 6326)\t0.1550716497668653\n",
      "  (0, 3395)\t0.06368281210082341\n",
      "  (0, 6604)\t0.11713038556834933\n",
      "  (0, 5124)\t0.1836070116997505\n",
      "  (0, 1348)\t0.10978851173262537\n",
      "  (0, 4964)\t0.14758561835748343\n",
      "  (0, 7605)\t0.20335632868787432\n",
      "  (0, 4621)\t0.09044094434724426\n",
      "  (0, 6606)\t0.14614875407005062\n",
      "  (0, 3478)\t0.09448906145618478\n",
      "  (0, 7804)\t0.1286972475707798\n",
      "  (0, 4368)\t0.06781993763064816\n",
      "  (0, 6001)\t0.10006195153871675\n",
      "  (0, 7235)\t0.12488196117584537\n",
      "  (0, 7271)\t0.28104497402880285\n",
      "  (0, 2544)\t0.13326016219921372\n",
      "  (0, 2042)\t0.1437214158139473\n",
      "  (0, 7084)\t0.08985030274719866\n",
      "  (0, 1609)\t0.09015472347265582\n",
      "  (0, 4870)\t0.0661171735420133\n",
      "  (0, 6814)\t0.11639071980244761\n",
      "  (0, 5865)\t0.13547853918893416\n",
      "  (0, 2270)\t0.11448344439178523\n",
      "  :\t:\n",
      "  (17875, 2513)\t0.16292875643514532\n",
      "  (17875, 4313)\t0.18446011856767305\n",
      "  (17875, 2515)\t0.24958565677034783\n",
      "  (17875, 1280)\t0.16807441010024526\n",
      "  (17875, 6230)\t0.20445693060429032\n",
      "  (17875, 2820)\t0.22842926922155526\n",
      "  (17875, 2729)\t0.2614913862209826\n",
      "  (17876, 366)\t0.17868522285514804\n",
      "  (17876, 2473)\t0.08544306678843318\n",
      "  (17876, 7335)\t0.15922976307188416\n",
      "  (17876, 1069)\t0.4042475705141261\n",
      "  (17876, 2201)\t0.11325510433017726\n",
      "  (17876, 6038)\t0.12521011121783976\n",
      "  (17876, 7902)\t0.3000766693521915\n",
      "  (17876, 7907)\t0.3542023381420485\n",
      "  (17876, 976)\t0.12380738444663623\n",
      "  (17876, 3538)\t0.16357124265988413\n",
      "  (17876, 7362)\t0.2577231698257732\n",
      "  (17876, 4155)\t0.2129324928360313\n",
      "  (17876, 2532)\t0.20080534434356595\n",
      "  (17876, 7134)\t0.23023520056309932\n",
      "  (17876, 191)\t0.28161835573151744\n",
      "  (17876, 2052)\t0.23853057730836463\n",
      "  (17876, 4600)\t0.2789335202150169\n",
      "  (17876, 1071)\t0.2584671884082157\n"
     ]
    }
   ],
   "source": [
    "print(train_vector)"
   ]
  },
  {
   "cell_type": "markdown",
   "id": "6f3870f6-bf08-46d4-af16-520912ac2245",
   "metadata": {},
   "source": [
    "__3) POS Tagging and NER__"
   ]
  },
  {
   "cell_type": "code",
   "execution_count": 29,
   "id": "8bf5faea-040e-4726-9ded-663c1c955d2a",
   "metadata": {},
   "outputs": [],
   "source": [
    "def pos_ner_tagging(texts):\n",
    "    pos_texts=[]\n",
    "    ner_texts=[]\n",
    "    for doc in nlp.pipe(texts,n_process=-1):\n",
    "        pos_tag=[token.pos_ for token in doc]\n",
    "        ner_tag=[token.ent_type_ if token.ent_type_ else \"O\" for token in doc]\n",
    "        pos_text=\" \".join(pos_tag)\n",
    "        ner_text=\" \".join(ner_tag)\n",
    "        pos_texts.append(pos_text)\n",
    "        ner_texts.append(ner_text)\n",
    "\n",
    "    return [pos_texts,ner_texts]"
   ]
  },
  {
   "cell_type": "code",
   "execution_count": 30,
   "id": "93c3df58-711d-4346-ba9c-21c685f5921d",
   "metadata": {},
   "outputs": [],
   "source": [
    "pos_data,ner_data=pos_ner_tagging(train_data['user_review'])"
   ]
  },
  {
   "cell_type": "code",
   "execution_count": 31,
   "id": "acd32768-b733-40ff-aa91-3f28756b0634",
   "metadata": {},
   "outputs": [],
   "source": [
    "train_data['pos_tag']=pos_data\n",
    "train_data['ner_tag']=ner_data"
   ]
  },
  {
   "cell_type": "code",
   "execution_count": 32,
   "id": "f555b7d1-2c10-4d9b-8145-735519816668",
   "metadata": {},
   "outputs": [
    {
     "data": {
      "text/html": [
       "<div>\n",
       "<style scoped>\n",
       "    .dataframe tbody tr th:only-of-type {\n",
       "        vertical-align: middle;\n",
       "    }\n",
       "\n",
       "    .dataframe tbody tr th {\n",
       "        vertical-align: top;\n",
       "    }\n",
       "\n",
       "    .dataframe thead th {\n",
       "        text-align: right;\n",
       "    }\n",
       "</style>\n",
       "<table border=\"1\" class=\"dataframe\">\n",
       "  <thead>\n",
       "    <tr style=\"text-align: right;\">\n",
       "      <th></th>\n",
       "      <th>review_id</th>\n",
       "      <th>title</th>\n",
       "      <th>year</th>\n",
       "      <th>user_review</th>\n",
       "      <th>user_suggestion</th>\n",
       "      <th>pos_tag</th>\n",
       "      <th>ner_tag</th>\n",
       "    </tr>\n",
       "  </thead>\n",
       "  <tbody>\n",
       "    <tr>\n",
       "      <th>0</th>\n",
       "      <td>460</td>\n",
       "      <td>Black Squad</td>\n",
       "      <td>2018.0</td>\n",
       "      <td>early access reviewvery great shooter original...</td>\n",
       "      <td>1</td>\n",
       "      <td>ADJ NOUN NOUN ADJ ADJ NOUN NOUN PRON VERB ADJ ...</td>\n",
       "      <td>O O O O O O O PERSON O O O O O O O O O O O O O...</td>\n",
       "    </tr>\n",
       "    <tr>\n",
       "      <th>1</th>\n",
       "      <td>2166</td>\n",
       "      <td>Tree of Savior (English Ver.)</td>\n",
       "      <td>2016.0</td>\n",
       "      <td>i love love love play lot class choose bound s...</td>\n",
       "      <td>1</td>\n",
       "      <td>PRON VERB NOUN NOUN VERB NOUN NOUN AUX VERB AD...</td>\n",
       "      <td>O O O O O O O O O O O O O O</td>\n",
       "    </tr>\n",
       "    <tr>\n",
       "      <th>2</th>\n",
       "      <td>17242</td>\n",
       "      <td>Eternal Card Game</td>\n",
       "      <td>2016.0</td>\n",
       "      <td>early access reviewas fan mtg hearthstone fun ...</td>\n",
       "      <td>1</td>\n",
       "      <td>ADJ NOUN VERB PROPN PROPN PROPN NOUN NOUN ADV ...</td>\n",
       "      <td>O O O O O O O O O O O O O O O O O O O O</td>\n",
       "    </tr>\n",
       "    <tr>\n",
       "      <th>3</th>\n",
       "      <td>6959</td>\n",
       "      <td>Tactical Monsters Rumble Arena</td>\n",
       "      <td>2018.0</td>\n",
       "      <td>turn base strategy game similiar ff tactics da...</td>\n",
       "      <td>1</td>\n",
       "      <td>VERB NOUN NOUN NOUN PROPN PROPN NOUN NOUN VERB...</td>\n",
       "      <td>O O O O O O O DATE O O O O O O O O O O O O O O...</td>\n",
       "    </tr>\n",
       "    <tr>\n",
       "      <th>4</th>\n",
       "      <td>8807</td>\n",
       "      <td>Yu-Gi-Oh! Duel Links</td>\n",
       "      <td>2017.0</td>\n",
       "      <td>game insanely huge download phone game blast v...</td>\n",
       "      <td>0</td>\n",
       "      <td>NOUN ADV ADJ NOUN NOUN NOUN NOUN NOUN ADJ NOUN...</td>\n",
       "      <td>O O O O O O O O O O O O O O O</td>\n",
       "    </tr>\n",
       "  </tbody>\n",
       "</table>\n",
       "</div>"
      ],
      "text/plain": [
       "   review_id                           title    year  \\\n",
       "0        460                     Black Squad  2018.0   \n",
       "1       2166   Tree of Savior (English Ver.)  2016.0   \n",
       "2      17242               Eternal Card Game  2016.0   \n",
       "3       6959  Tactical Monsters Rumble Arena  2018.0   \n",
       "4       8807            Yu-Gi-Oh! Duel Links  2017.0   \n",
       "\n",
       "                                         user_review  user_suggestion  \\\n",
       "0  early access reviewvery great shooter original...                1   \n",
       "1  i love love love play lot class choose bound s...                1   \n",
       "2  early access reviewas fan mtg hearthstone fun ...                1   \n",
       "3  turn base strategy game similiar ff tactics da...                1   \n",
       "4  game insanely huge download phone game blast v...                0   \n",
       "\n",
       "                                             pos_tag  \\\n",
       "0  ADJ NOUN NOUN ADJ ADJ NOUN NOUN PRON VERB ADJ ...   \n",
       "1  PRON VERB NOUN NOUN VERB NOUN NOUN AUX VERB AD...   \n",
       "2  ADJ NOUN VERB PROPN PROPN PROPN NOUN NOUN ADV ...   \n",
       "3  VERB NOUN NOUN NOUN PROPN PROPN NOUN NOUN VERB...   \n",
       "4  NOUN ADV ADJ NOUN NOUN NOUN NOUN NOUN ADJ NOUN...   \n",
       "\n",
       "                                             ner_tag  \n",
       "0  O O O O O O O PERSON O O O O O O O O O O O O O...  \n",
       "1                        O O O O O O O O O O O O O O  \n",
       "2            O O O O O O O O O O O O O O O O O O O O  \n",
       "3  O O O O O O O DATE O O O O O O O O O O O O O O...  \n",
       "4                      O O O O O O O O O O O O O O O  "
      ]
     },
     "execution_count": 32,
     "metadata": {},
     "output_type": "execute_result"
    }
   ],
   "source": [
    "train_data.head(5)"
   ]
  },
  {
   "cell_type": "code",
   "execution_count": 33,
   "id": "169c385e-f286-4874-863c-204178c304ce",
   "metadata": {},
   "outputs": [
    {
     "data": {
      "text/html": [
       "<span class=\"tex2jax_ignore\"><div class=\"entities\" style=\"line-height: 2.5; direction: ltr\">turn base strategy game similiar ff tactics \n",
       "<mark class=\"entity\" style=\"background: #bfe1d9; padding: 0.45em 0.6em; margin: 0 0.25em; line-height: 1; border-radius: 0.35em;\">\n",
       "    day\n",
       "    <span style=\"font-size: 0.8em; font-weight: bold; line-height: 1; border-radius: 0.35em; vertical-align: middle; margin-left: 0.5rem\">DATE</span>\n",
       "</mark>\n",
       " remember easy enjoyable lot different comp try bored want able play fun game hand occasional glance screen watch movie hentai</div></span>"
      ],
      "text/plain": [
       "<IPython.core.display.HTML object>"
      ]
     },
     "metadata": {},
     "output_type": "display_data"
    }
   ],
   "source": [
    "# let's visulaize the NER -named entity relation tagging\n",
    "text=train_data['user_review'][3]\n",
    "doc=nlp(text)\n",
    "displacy.render(doc,style=\"ent\")"
   ]
  },
  {
   "cell_type": "markdown",
   "id": "0eaaed0e-ba04-4864-8ebc-8c029fa2f611",
   "metadata": {},
   "source": [
    "__Aplication of POS tagging__\n",
    "because a noun never impact on our user review to predict user suggestion.\n",
    "__so we can remove the noun from our user review dataset.__"
   ]
  },
  {
   "cell_type": "code",
   "execution_count": 35,
   "id": "a16b0d4a-6a89-474c-998d-21cf6476966e",
   "metadata": {},
   "outputs": [],
   "source": [
    "def remove_noun(texts):\n",
    "    without_noun=[]\n",
    "    for doc in nlp.pipe(texts,n_process=-1):\n",
    "        without_noun_tokens=\" \".join([token.text for token in doc if token.pos_ not in ['NOUN','PROPN']])\n",
    "        without_noun.append(without_noun_tokens)\n",
    "    return without_noun    \n",
    "    "
   ]
  },
  {
   "cell_type": "code",
   "execution_count": 36,
   "id": "4d6be729-9f06-4575-a2de-449bc97728a3",
   "metadata": {},
   "outputs": [],
   "source": [
    "train_data['filtered_user_review']=remove_noun(train_data['user_review'])"
   ]
  },
  {
   "cell_type": "code",
   "execution_count": 37,
   "id": "0a9f7341-a109-4e8b-8b0a-20c28e443ca2",
   "metadata": {},
   "outputs": [
    {
     "data": {
      "text/html": [
       "<div>\n",
       "<style scoped>\n",
       "    .dataframe tbody tr th:only-of-type {\n",
       "        vertical-align: middle;\n",
       "    }\n",
       "\n",
       "    .dataframe tbody tr th {\n",
       "        vertical-align: top;\n",
       "    }\n",
       "\n",
       "    .dataframe thead th {\n",
       "        text-align: right;\n",
       "    }\n",
       "</style>\n",
       "<table border=\"1\" class=\"dataframe\">\n",
       "  <thead>\n",
       "    <tr style=\"text-align: right;\">\n",
       "      <th></th>\n",
       "      <th>review_id</th>\n",
       "      <th>title</th>\n",
       "      <th>year</th>\n",
       "      <th>user_review</th>\n",
       "      <th>user_suggestion</th>\n",
       "      <th>pos_tag</th>\n",
       "      <th>ner_tag</th>\n",
       "      <th>filtered_user_review</th>\n",
       "    </tr>\n",
       "  </thead>\n",
       "  <tbody>\n",
       "    <tr>\n",
       "      <th>0</th>\n",
       "      <td>460</td>\n",
       "      <td>Black Squad</td>\n",
       "      <td>2018.0</td>\n",
       "      <td>early access reviewvery great shooter original...</td>\n",
       "      <td>1</td>\n",
       "      <td>ADJ NOUN NOUN ADJ ADJ NOUN NOUN PRON VERB ADJ ...</td>\n",
       "      <td>O O O O O O O PERSON O O O O O O O O O O O O O...</td>\n",
       "      <td>early great shooter newbie understand mechanic...</td>\n",
       "    </tr>\n",
       "    <tr>\n",
       "      <th>1</th>\n",
       "      <td>2166</td>\n",
       "      <td>Tree of Savior (English Ver.)</td>\n",
       "      <td>2016.0</td>\n",
       "      <td>i love love love play lot class choose bound s...</td>\n",
       "      <td>1</td>\n",
       "      <td>PRON VERB NOUN NOUN VERB NOUN NOUN AUX VERB AD...</td>\n",
       "      <td>O O O O O O O O O O O O O O</td>\n",
       "      <td>i love play choose bound storyline</td>\n",
       "    </tr>\n",
       "    <tr>\n",
       "      <th>2</th>\n",
       "      <td>17242</td>\n",
       "      <td>Eternal Card Game</td>\n",
       "      <td>2016.0</td>\n",
       "      <td>early access reviewas fan mtg hearthstone fun ...</td>\n",
       "      <td>1</td>\n",
       "      <td>ADJ NOUN VERB PROPN PROPN PROPN NOUN NOUN ADV ...</td>\n",
       "      <td>O O O O O O O O O O O O O O O O O O O O</td>\n",
       "      <td>early reviewas far good know great</td>\n",
       "    </tr>\n",
       "    <tr>\n",
       "      <th>3</th>\n",
       "      <td>6959</td>\n",
       "      <td>Tactical Monsters Rumble Arena</td>\n",
       "      <td>2018.0</td>\n",
       "      <td>turn base strategy game similiar ff tactics da...</td>\n",
       "      <td>1</td>\n",
       "      <td>VERB NOUN NOUN NOUN PROPN PROPN NOUN NOUN VERB...</td>\n",
       "      <td>O O O O O O O DATE O O O O O O O O O O O O O O...</td>\n",
       "      <td>turn remember easy enjoyable different try bor...</td>\n",
       "    </tr>\n",
       "    <tr>\n",
       "      <th>4</th>\n",
       "      <td>8807</td>\n",
       "      <td>Yu-Gi-Oh! Duel Links</td>\n",
       "      <td>2017.0</td>\n",
       "      <td>game insanely huge download phone game blast v...</td>\n",
       "      <td>0</td>\n",
       "      <td>NOUN ADV ADJ NOUN NOUN NOUN NOUN NOUN ADJ NOUN...</td>\n",
       "      <td>O O O O O O O O O O O O O O O</td>\n",
       "      <td>insanely huge entire far long need</td>\n",
       "    </tr>\n",
       "  </tbody>\n",
       "</table>\n",
       "</div>"
      ],
      "text/plain": [
       "   review_id                           title    year  \\\n",
       "0        460                     Black Squad  2018.0   \n",
       "1       2166   Tree of Savior (English Ver.)  2016.0   \n",
       "2      17242               Eternal Card Game  2016.0   \n",
       "3       6959  Tactical Monsters Rumble Arena  2018.0   \n",
       "4       8807            Yu-Gi-Oh! Duel Links  2017.0   \n",
       "\n",
       "                                         user_review  user_suggestion  \\\n",
       "0  early access reviewvery great shooter original...                1   \n",
       "1  i love love love play lot class choose bound s...                1   \n",
       "2  early access reviewas fan mtg hearthstone fun ...                1   \n",
       "3  turn base strategy game similiar ff tactics da...                1   \n",
       "4  game insanely huge download phone game blast v...                0   \n",
       "\n",
       "                                             pos_tag  \\\n",
       "0  ADJ NOUN NOUN ADJ ADJ NOUN NOUN PRON VERB ADJ ...   \n",
       "1  PRON VERB NOUN NOUN VERB NOUN NOUN AUX VERB AD...   \n",
       "2  ADJ NOUN VERB PROPN PROPN PROPN NOUN NOUN ADV ...   \n",
       "3  VERB NOUN NOUN NOUN PROPN PROPN NOUN NOUN VERB...   \n",
       "4  NOUN ADV ADJ NOUN NOUN NOUN NOUN NOUN ADJ NOUN...   \n",
       "\n",
       "                                             ner_tag  \\\n",
       "0  O O O O O O O PERSON O O O O O O O O O O O O O...   \n",
       "1                        O O O O O O O O O O O O O O   \n",
       "2            O O O O O O O O O O O O O O O O O O O O   \n",
       "3  O O O O O O O DATE O O O O O O O O O O O O O O...   \n",
       "4                      O O O O O O O O O O O O O O O   \n",
       "\n",
       "                                filtered_user_review  \n",
       "0  early great shooter newbie understand mechanic...  \n",
       "1                 i love play choose bound storyline  \n",
       "2                 early reviewas far good know great  \n",
       "3  turn remember easy enjoyable different try bor...  \n",
       "4                 insanely huge entire far long need  "
      ]
     },
     "execution_count": 37,
     "metadata": {},
     "output_type": "execute_result"
    }
   ],
   "source": [
    "train_data.head(5)"
   ]
  },
  {
   "cell_type": "markdown",
   "id": "939a2fa7-d8c4-44e8-898b-186a0bf38fc6",
   "metadata": {},
   "source": [
    "# Step 3 :- Embeddings "
   ]
  },
  {
   "cell_type": "code",
   "execution_count": 39,
   "id": "e75fe6b3-74f1-402f-b410-5d9ff254ce1e",
   "metadata": {},
   "outputs": [],
   "source": [
    "from gensim.models import Word2Vec\n",
    "import torch\n",
    "import torch.nn as nn\n",
    "from torch.utils.data import TensorDataset,DataLoader\n",
    "import torch.optim as optim"
   ]
  },
  {
   "cell_type": "code",
   "execution_count": 40,
   "id": "c71b60f6-4a49-430d-a7bf-75b994f5383a",
   "metadata": {},
   "outputs": [
    {
     "name": "stdout",
     "output_type": "stream",
     "text": [
      "707\n"
     ]
    }
   ],
   "source": [
    "word2vec_model = Word2Vec(sentences=train_data.user_review.values.tolist(), #we train the model on corpus so model will create thier vocabulary.\n",
    "                          vector_size=100, min_count=1 , workers=4)  #worker=4 -->4 worker thread will work. min_count=1-->if a word comes atleast 1 time it will include in vocabulary.\n",
    "\n",
    "# Get vocabulary size\n",
    "vocab_size=len(word2vec_model.wv)\n",
    "print(vocab_size)"
   ]
  },
  {
   "cell_type": "code",
   "execution_count": 41,
   "id": "34f3ec56-1755-48f8-9b18-ea1768b421aa",
   "metadata": {},
   "outputs": [],
   "source": [
    "# Convert text to Word2Vec embeddings\n",
    "def text_to_embeddings(text, word2vec_model, seq_length):\n",
    "    embeddings = []\n",
    "    \n",
    "    for i, word in enumerate(text):\n",
    "        if word in word2vec_model.wv:\n",
    "            if i == seq_length:\n",
    "                break\n",
    "            embeddings.append(word2vec_model.wv[word])\n",
    "        else:\n",
    "            continue\n",
    "        \n",
    "    # Padding the sequences   \n",
    "    if len(embeddings) < seq_length:\n",
    "        zero_padding = [np.zeros(word2vec_model.vector_size) \\\n",
    "                        for _ in range(seq_length - len(embeddings))]    \n",
    "\n",
    "        embeddings = embeddings + zero_padding\n",
    "\n",
    "    return embeddings[:seq_length]   # it's work for truncate\n",
    "\n",
    "# word2vec_model.vector_size gives the size of each word embedding (e.g., 300 for Word2Vec).\n",
    "# np.zeros(word2vec_model.vector_size) creates a zero vector of the same size.\n",
    "# The for loop runs for (seq_length - len(embeddings)) times, ensuring we create enough zero vectors to make the sequence the required length."
   ]
  },
  {
   "cell_type": "code",
   "execution_count": 42,
   "id": "bc264ebc-af30-438d-817c-a9cf7e4cefa8",
   "metadata": {},
   "outputs": [],
   "source": [
    "# Prepare data\n",
    "def prepare_data(reviews, labels, word2vec_model):\n",
    "    X = [text_to_embeddings(review, word2vec_model, 100) for review in reviews]\n",
    "    X = [torch.tensor(embeddings, dtype=torch.float32) for embeddings in X]\n",
    "    y = torch.tensor(labels, dtype=torch.long)\n",
    "    return X, y"
   ]
  },
  {
   "cell_type": "code",
   "execution_count": 43,
   "id": "adb9a0d8-0796-43c6-93d0-0fba701e0783",
   "metadata": {},
   "outputs": [
    {
     "name": "stderr",
     "output_type": "stream",
     "text": [
      "C:\\Users\\govinda.tak\\AppData\\Local\\Temp\\ipykernel_6080\\5277148.py:4: UserWarning: Creating a tensor from a list of numpy.ndarrays is extremely slow. Please consider converting the list to a single numpy.ndarray with numpy.array() before converting to a tensor. (Triggered internally at ..\\torch\\csrc\\utils\\tensor_new.cpp:248.)\n",
      "  X = [torch.tensor(embeddings, dtype=torch.float32) for embeddings in X]\n"
     ]
    }
   ],
   "source": [
    "# Prepare data\n",
    "X_train, y_train = prepare_data(train_data.user_review, train_data.user_suggestion,\n",
    "                    word2vec_model)\n",
    "\n",
    "X_val, y_val = prepare_data(validation_data.user_review, validation_data.user_suggestion,\n",
    "                    word2vec_model)"
   ]
  },
  {
   "cell_type": "code",
   "execution_count": 44,
   "id": "1657e095-0db4-4690-9dab-b3dd577e7117",
   "metadata": {},
   "outputs": [],
   "source": [
    "# Define hyperparameters\n",
    "input_size = word2vec_model.vector_size\n",
    "hidden_size = 128\n",
    "output_size = 1\n",
    "num_layers = 1\n",
    "learning_rate = 0.001\n",
    "num_epochs = 30\n",
    "batch_size = 64\n",
    "dropout_rate = 0.5\n",
    "leaky_relu_slope = 0.1\n"
   ]
  },
  {
   "cell_type": "code",
   "execution_count": 45,
   "id": "372f4e7d-bf31-4954-9214-f26a9a4fa51d",
   "metadata": {},
   "outputs": [],
   "source": [
    "# Create DataLoader\n",
    "train_data = TensorDataset(torch.stack(X_train), y_train) #torch.stack(X_train) converts this list of tensor into a single tensor, making it easier to work with PyTorch's TensorDataset and DataLoader.\n",
    "train_loader = DataLoader(train_data, batch_size=batch_size, shuffle=True)"
   ]
  },
  {
   "cell_type": "code",
   "execution_count": 46,
   "id": "26fcfe6e-145d-4e9d-accc-e9dce4b88439",
   "metadata": {},
   "outputs": [],
   "source": [
    "# Create DataLoader\n",
    "val_data = TensorDataset(torch.stack(X_val), y_val)\n",
    "val_loader = DataLoader(val_data, batch_size=batch_size, shuffle=True)"
   ]
  },
  {
   "cell_type": "markdown",
   "id": "9e20f8e1-182b-4140-b2db-512a5b4734ab",
   "metadata": {},
   "source": [
    "# Step 4 :- modeling by Advanced RNN MOdel with word embedding"
   ]
  },
  {
   "cell_type": "markdown",
   "id": "41cc2af2-9803-4fef-a47e-fabef67eaf5a",
   "metadata": {},
   "source": [
    "__Using Multilayered Bi-Directional RNN__"
   ]
  },
  {
   "cell_type": "code",
   "execution_count": 49,
   "id": "12e90746-4367-4aa1-809f-bd57e7b9c625",
   "metadata": {},
   "outputs": [],
   "source": [
    "class SentimentBiRNN(nn.Module):\n",
    "    def __init__(self, input_size, hidden_size, output_size, num_layers, dropout_rate=0.5):\n",
    "        super(SentimentBiRNN, self).__init__()\n",
    "        self.hidden_size = hidden_size\n",
    "        self.num_layers = num_layers\n",
    "\n",
    "        # Using RNN for the recurrent layer\n",
    "        self.bi_rnn = nn.RNN(input_size, hidden_size, num_layers, batch_first=True,\n",
    "                             bidirectional=True, dropout=dropout_rate if num_layers > 1 else 0)\n",
    "        self.dropout = nn.Dropout(dropout_rate)   #Dropout inside RNN (dropout=...) → prevents overfitting in stacked RNN layers. ✅ Dropout after RNN (self.dropout = ...) → prevents overfitting before passing data to fully connected layers. ✅ Both work together to improve generalization! 🎯\n",
    "        # Doubling the output size because of bidirectionality\n",
    "        self.fc = nn.Linear(hidden_size * 2, output_size)\n",
    "\n",
    "    def forward(self, x):\n",
    "        # Initialize hidden state for RNN\n",
    "        h0 = torch.zeros(2 * self.num_layers, x.size(0), self.hidden_size).to(x.device)\n",
    "        # Forward propagate the RNN\n",
    "        out, _ = self.bi_rnn(x, h0)\n",
    "        # Apply Leaky ReLU activation\n",
    "        out = nn.functional.leaky_relu(out)\n",
    "        out = self.dropout(out)\n",
    "        # Get the last time step's output for the fully connected layer\n",
    "        out = self.fc(out[:, -1, :])\n",
    "        # Apply sigmoid to the output layer\n",
    "        out = torch.sigmoid(out)\n",
    "        return out"
   ]
  },
  {
   "cell_type": "code",
   "execution_count": 54,
   "id": "dac12bb5-7522-4338-a01e-880b9277bf1f",
   "metadata": {},
   "outputs": [],
   "source": [
    "# Initialize model, loss function, and optimizer\n",
    "model = SentimentBiRNN(input_size, hidden_size, output_size, num_layers, dropout_rate)\n",
    "criterion = nn.BCELoss()\n",
    "optimizer = optim.Adam(model.parameters(), lr=learning_rate)"
   ]
  },
  {
   "cell_type": "code",
   "execution_count": 56,
   "id": "f09125e4-8d7c-48da-a45e-7122da79d39d",
   "metadata": {},
   "outputs": [],
   "source": [
    "def calculate_accuracy(loader):\n",
    "    model.eval()\n",
    "    correct, total = 0, 0\n",
    "    with torch.no_grad():\n",
    "        for inputs, labels in loader:\n",
    "            outputs = model(inputs)\n",
    "            predicted = outputs.squeeze() > 0.5\n",
    "            total += labels.size(0)\n",
    "            correct += (predicted == labels).sum().item()\n",
    "    return 100 * correct / total\n",
    "\n"
   ]
  },
  {
   "cell_type": "markdown",
   "id": "7c9a7da1-44aa-42f0-8203-3070fcd6a9f6",
   "metadata": {},
   "source": [
    "__Train the model__"
   ]
  },
  {
   "cell_type": "code",
   "execution_count": 58,
   "id": "02246262-2115-4ea7-b775-c944263cc775",
   "metadata": {},
   "outputs": [
    {
     "name": "stdout",
     "output_type": "stream",
     "text": [
      "Epoch 1/30, Loss: 0.6869, Val Loss: 0.6844\n",
      "Epoch 2/30, Loss: 0.6849, Val Loss: 0.6852\n",
      "Epoch 3/30, Loss: 0.6847, Val Loss: 0.6845\n",
      "Epoch 4/30, Loss: 0.6852, Val Loss: 0.6843\n",
      "Epoch 5/30, Loss: 0.6865, Val Loss: 0.6847\n",
      "Epoch 6/30, Loss: 0.6862, Val Loss: 0.6860\n",
      "Epoch 7/30, Loss: 0.6852, Val Loss: 0.6839\n",
      "Epoch 8/30, Loss: 0.6854, Val Loss: 0.6840\n",
      "Epoch 9/30, Loss: 0.6851, Val Loss: 0.6851\n",
      "Epoch 10/30, Loss: 0.6849, Val Loss: 0.6854\n",
      "Early stopped at 10\n",
      "Lowest Validation Loss: 0.6839 at Epoch 7\n"
     ]
    },
    {
     "data": {
      "image/png": "[encoded data removed]",
      "text/plain": [
       "<Figure size 1000x500 with 1 Axes>"
      ]
     },
     "metadata": {},
     "output_type": "display_data"
    },
    {
     "name": "stdout",
     "output_type": "stream",
     "text": [
      "Best Model Training Accuracy: 56.72092632992113%\n",
      "Best Model Validation Accuracy: 56.8780997128687%\n"
     ]
    }
   ],
   "source": [
    "#Training loop\n",
    "import matplotlib.pyplot as plt\n",
    "\n",
    "num_epochs = 30  # Number of epochs\n",
    "losses = []  # List to store the average train loss per epoch\n",
    "val_losses = []  # List to store the average validation loss per epoch\n",
    "best_val_loss = float('inf')  # Initialize the best validation loss to infinity\n",
    "best_epoch = 0  # Epoch with the best validation loss\n",
    "patience = 0\n",
    "max_patience = 3  # Maximum epochs to wait for improvement\n",
    "\n",
    "for epoch in range(num_epochs):\n",
    "    model.train()  # Set the model to training mode\n",
    "    total_loss = 0\n",
    "    total_val_loss = 0\n",
    "    count = 0\n",
    "    val_count = 0\n",
    "    for inputs, labels in train_loader:\n",
    "        optimizer.zero_grad()\n",
    "        outputs = model(inputs)\n",
    "        outputs = outputs.squeeze()\n",
    "        loss = criterion(outputs, labels.float())\n",
    "        loss.backward()\n",
    "        optimizer.step()\n",
    "        total_loss += loss.item()\n",
    "        count += 1\n",
    "    average_loss = total_loss / count\n",
    "    losses.append(average_loss)\n",
    "\n",
    "    model.eval()  # Set the model to evaluation mode\n",
    "    with torch.no_grad():\n",
    "        for inputs, labels in val_loader:\n",
    "            val_outputs = model(inputs)\n",
    "            val_outputs = val_outputs.squeeze()\n",
    "            val_loss = criterion(val_outputs, labels.float())\n",
    "            total_val_loss += val_loss.item()\n",
    "            val_count += 1\n",
    "    average_val_loss = total_val_loss / val_count\n",
    "    val_losses.append(average_val_loss)\n",
    "    print(f'Epoch {epoch+1}/{num_epochs}, Loss: {average_loss:.4f}, Val Loss: {average_val_loss:.4f}')\n",
    "    \n",
    "    # Check if the current validation loss is the lowest; if so, save the model\n",
    "    if average_val_loss < best_val_loss:\n",
    "        best_val_loss = average_val_loss\n",
    "        best_epoch = epoch\n",
    "        torch.save(model.state_dict(), 'bidirectional_best_model.pth')  # Save the best model\n",
    "        patience = 0   \n",
    "    else:\n",
    "        patience += 1\n",
    "\n",
    "    if patience >= max_patience:\n",
    "        print(f'Early stopped at {epoch+1}')\n",
    "        break  # Stop training\n",
    "\n",
    "print(f'Lowest Validation Loss: {best_val_loss:.4f} at Epoch {best_epoch + 1}')\n",
    "\n",
    "# Plotting the training and validation losses\n",
    "\n",
    "plt.figure(figsize=(10, 5))\n",
    "plt.plot(range(1, (len(losses)+1)), losses, 'bo-', label='Training Loss')\n",
    "plt.plot(range(1, (len(losses)+1)), val_losses, 'ro-', label='Validation Loss')\n",
    "plt.title('Training and Validation Loss per Epoch')\n",
    "plt.xlabel('Epoch')\n",
    "plt.ylabel('Loss')\n",
    "plt.legend()\n",
    "plt.grid(True)\n",
    "plt.show()\n",
    "\n",
    "# Load the best model and calculate accuracy only for that\n",
    "model.load_state_dict(torch.load('bidirectional_best_model.pth'))\n",
    "train_accuracy = calculate_accuracy(train_loader)\n",
    "val_accuracy = calculate_accuracy(val_loader)\n",
    "print(f'Best Model Training Accuracy: {train_accuracy}%')\n",
    "print(f'Best Model Validation Accuracy: {val_accuracy}%')"
   ]
  },
  {
   "cell_type": "code",
   "execution_count": null,
   "id": "54e09c35-f907-4a92-83a9-8df6aa336635",
   "metadata": {},
   "outputs": [],
   "source": []
  },
  {
   "cell_type": "code",
   "execution_count": null,
   "id": "cafb9ac1-9df4-468b-8734-a1ebbff0b7c4",
   "metadata": {},
   "outputs": [],
   "source": []
  }
 ],
 "metadata": {
  "kernelspec": {
   "display_name": "Python 3.10",
   "language": "python",
   "name": "python3.10"
  },
  "language_info": {
   "codemirror_mode": {
    "name": "ipython",
    "version": 3
   },
   "file_extension": ".py",
   "mimetype": "text/x-python",
   "name": "python",
   "nbconvert_exporter": "python",
   "pygments_lexer": "ipython3",
   "version": "3.10.0"
  }
 },
 "nbformat": 4,
 "nbformat_minor": 5
}
